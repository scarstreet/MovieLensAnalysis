{
 "cells": [
  {
   "attachments": {},
   "cell_type": "markdown",
   "metadata": {},
   "source": [
    "<h1>Collaborative Filtering Method using Kmeans</h1>"
   ]
  },
  {
   "cell_type": "code",
   "execution_count": null,
   "metadata": {},
   "outputs": [],
   "source": [
    "from sklearn import neighbors\n",
    "from sklearn.cluster import KMeans\n",
    "from sklearn.model_selection import train_test_split, cross_val_score\n",
    "import numpy as np\n",
    "import pandas as pd\n",
    "import matplotlib.pyplot as plt\n",
    "import preprocessingFuncts as pp\n",
    "import sklearn.metrics as metrics\n",
    "\n",
    "from models import KmeansCF"
   ]
  },
  {
   "cell_type": "code",
   "execution_count": null,
   "metadata": {},
   "outputs": [],
   "source": [
    "IBCF = KmeansCF('item')\n",
    "IBCF.fit('ml-100k\\\\ua.base')\n"
   ]
  },
  {
   "cell_type": "code",
   "execution_count": null,
   "metadata": {},
   "outputs": [],
   "source": [
    "IBCF.baseSimMatrix"
   ]
  },
  {
   "cell_type": "code",
   "execution_count": null,
   "metadata": {},
   "outputs": [],
   "source": [
    "testData = pp.readRatingData('ml-100k\\\\ua.test')\n",
    "testX, testY = testData.loc[:, ['user_id',\n",
    "                                'item_id']], testData.loc[:, 'rating']\n",
    "\n",
    "predY = IBCF.predict(testX)\n",
    "print(predY)"
   ]
  },
  {
   "cell_type": "code",
   "execution_count": null,
   "metadata": {},
   "outputs": [],
   "source": [
    "from sklearn.metrics import classification_report\n",
    "\n",
    "print(classification_report(testY, predY))"
   ]
  },
  {
   "cell_type": "code",
   "execution_count": null,
   "metadata": {},
   "outputs": [],
   "source": [
    "from sklearn.metrics import confusion_matrix, ConfusionMatrixDisplay\n",
    "\n",
    "cm = confusion_matrix(\n",
    "    testY, predY, labels=[0, 1, 2, 3, 4, 5]\n",
    ")\n",
    "disp = ConfusionMatrixDisplay(\n",
    "    confusion_matrix=cm, display_labels=[0, 1, 2, 3, 4, 5])\n",
    "disp.plot()\n",
    "plt.show()\n"
   ]
  },
  {
   "attachments": {},
   "cell_type": "markdown",
   "metadata": {},
   "source": [
    "<h1>User Based</h1>"
   ]
  },
  {
   "cell_type": "code",
   "execution_count": null,
   "metadata": {},
   "outputs": [],
   "source": [
    "UBCF = KmeansCF('user')\n",
    "UBCF.fit('ml-100k\\\\ua.base')\n",
    "predY = UBCF.predict(testX)\n",
    "\n",
    "print(classification_report(testY, predY))"
   ]
  },
  {
   "cell_type": "code",
   "execution_count": null,
   "metadata": {},
   "outputs": [],
   "source": [
    "from sklearn.metrics import confusion_matrix, ConfusionMatrixDisplay\n",
    "\n",
    "cm = confusion_matrix(\n",
    "    testY, predY, labels=[0, 1, 2, 3, 4, 5]\n",
    ")\n",
    "disp = ConfusionMatrixDisplay(\n",
    "    confusion_matrix=cm, display_labels=[0, 1, 2, 3, 4, 5])\n",
    "disp.plot()\n",
    "plt.show()\n"
   ]
  },
  {
   "cell_type": "code",
   "execution_count": null,
   "metadata": {},
   "outputs": [],
   "source": [
    "#Adding parameters to the model\n",
    "\n",
    "UBCF = KmeansCF('user',k=10,threshold=3)\n",
    "UBCF.fit('ml-100k\\\\ua.base')\n",
    "predY = UBCF.predict(testX)\n",
    "\n",
    "print(classification_report(testY, predY))"
   ]
  },
  {
   "cell_type": "code",
   "execution_count": null,
   "metadata": {},
   "outputs": [],
   "source": [
    "from sklearn.metrics import confusion_matrix, ConfusionMatrixDisplay\n",
    "\n",
    "cm = confusion_matrix(\n",
    "    testY, predY, labels=[0, 1, 2, 3, 4, 5]\n",
    ")\n",
    "disp = ConfusionMatrixDisplay(\n",
    "    confusion_matrix=cm, display_labels=[0, 1, 2, 3, 4, 5])\n",
    "disp.plot()\n",
    "plt.show()"
   ]
  },
  {
   "cell_type": "code",
   "execution_count": null,
   "metadata": {},
   "outputs": [],
   "source": [
    "\n",
    "import preprocessingFuncts as pp\n",
    "import numpy as np\n",
    "import pandas as pd\n",
    "from models import KmeansCF\n",
    "from models import CF\n",
    "from simModel import simiModel\n",
    "from sklearn.naive_bayes import CategoricalNB\n",
    "from sklearn.metrics import classification_report\n",
    "\n",
    "model = [KmeansCF('user'),CF('user'),CF('item'),simiModel('user')]\n",
    "modelname = [\"KmeansCF('user')\",\"CF('user')\",\"CF('item')\",\"simiModel('user')\"]\n",
    "dicpath=['ml-100k\\\\u1.base','ml-100k\\\\u2.base','ml-100k\\\\u3.base','ml-100k\\\\u4.base','ml-100k\\\\u5.base']\n",
    "dicpathtest=['ml-100k\\\\u1.test','ml-100k\\\\u2.test','ml-100k\\\\u3.test','ml-100k\\\\u4.test','ml-100k\\\\u5.test']\n",
    "arravgtrain=[]\n",
    "arravgtest=[]\n",
    "\n",
    "for i in range(len(dicpath)):\n",
    "    print(f'i is now at : {i}')\n",
    "    index=0\n",
    "    mydatatest=pp.readRatingData(dicpathtest[i])\n",
    "    testX, testY = mydatatest.loc[:, ['user_id',\n",
    "                                    'item_id']], mydatatest.loc[:, 'rating']\n",
    "    if(i!=4):\n",
    "        for j in model:\n",
    "            print(f'Model: {modelname[index]}')\n",
    "            tempmodel = j\n",
    "            tempmodel.fit(dicpath[i])\n",
    "            predY = tempmodel.predict(testX)\n",
    "            print(classification_report(testY,predY))\n",
    "            index+=1\n",
    "    else:\n",
    "        \n",
    "# trainX, X_test = train_test_split(testX,test_size=0.25)\n",
    "# trainY, Y_test = train_test_split(testY,test_size=0.25)\n",
    "# predY= IBCF.predict(X_test)\n",
    "# print(classification_report(Y_test, predY))\n"
   ]
  }
 ],
 "metadata": {
  "kernelspec": {
   "display_name": "Python 3.8.15 ('base')",
   "language": "python",
   "name": "python3"
  },
  "language_info": {
   "codemirror_mode": {
    "name": "ipython",
    "version": 3
   },
   "file_extension": ".py",
   "mimetype": "text/x-python",
   "name": "python",
   "nbconvert_exporter": "python",
   "pygments_lexer": "ipython3",
   "version": "3.8.15"
  },
  "orig_nbformat": 4,
  "vscode": {
   "interpreter": {
    "hash": "ad2bdc8ecc057115af97d19610ffacc2b4e99fae6737bb82f5d7fb13d2f2c186"
   }
  }
 },
 "nbformat": 4,
 "nbformat_minor": 2
}
