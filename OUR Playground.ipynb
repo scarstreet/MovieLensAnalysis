{
  "cells": [
    {
      "cell_type": "markdown",
      "metadata": {
        "colab_type": "text",
        "id": "view-in-github"
      },
      "source": [
        "<a href=\"https://colab.research.google.com/github/Reactodactyl/MovLensDataSet/blob/main/Recommender_Systems_Final_Projectg.ipynb\" target=\"_parent\"><img src=\"https://colab.research.google.com/assets/colab-badge.svg\" alt=\"Open In Colab\"/></a>"
      ]
    },
    {
      "cell_type": "markdown",
      "metadata": {
        "id": "g2mkdC70EkT-"
      },
      "source": [
        "# Project Setup"
      ]
    },
    {
      "cell_type": "code",
      "execution_count": 60,
      "metadata": {
        "id": "Tv3iDedeEREo"
      },
      "outputs": [],
      "source": [
        "# Python ≥3.5 is required\n",
        "import sys\n",
        "assert sys.version_info >= (3, 5)\n",
        "\n",
        "# Scikit-Learn ≥0.20 is required\n",
        "import sklearn\n",
        "assert sklearn.__version__ >= \"0.20\"\n",
        "\n",
        "# Common imports\n",
        "import pandas as pd\n",
        "import numpy as np\n",
        "import os\n",
        "\n",
        "# To plot pretty figures\n",
        "%matplotlib inline\n",
        "import matplotlib as mpl\n",
        "import matplotlib.pyplot as plt\n",
        "mpl.rc('axes', labelsize=14)\n",
        "mpl.rc('xtick', labelsize=12)\n",
        "mpl.rc('ytick', labelsize=12)\n",
        "\n",
        "# Where to save the figures\n",
        "PROJECT_ROOT_DIR = \".\"\n",
        "CHAPTER_ID = \"recommender_sys_proj\"\n",
        "IMAGES_PATH = os.path.join(PROJECT_ROOT_DIR, \"images\", CHAPTER_ID)\n",
        "os.makedirs(IMAGES_PATH, exist_ok=True)\n",
        "\n",
        "def save_fig(fig_id, tight_layout=True, fig_extension=\"png\", resolution=300):\n",
        "    path = os.path.join(IMAGES_PATH, fig_id + \".\" + fig_extension)\n",
        "    print(\"Saving figure\", fig_id)\n",
        "    if tight_layout:\n",
        "        plt.tight_layout()\n",
        "    plt.savefig(path, format=fig_extension, dpi=resolution)"
      ]
    },
    {
      "cell_type": "markdown",
      "metadata": {
        "id": "buyjeN_mGdIr"
      },
      "source": [
        "# Loading The Data\n"
      ]
    },
    {
      "cell_type": "markdown",
      "metadata": {
        "id": "naTgUSJzJR92"
      },
      "source": [
        "![picture](https://drive.google.com/uc?export=view&id=1gIHAyThFFxwKwLl4kFTVeoE51Ig4pcTx)"
      ]
    },
    {
      "cell_type": "code",
      "execution_count": 61,
      "metadata": {
        "id": "XycyB4Kk_Aoj"
      },
      "outputs": [],
      "source": [
        "# load the movie rating data into a dataframe\n",
        "rating_header = [\"user_id\", \"item_id\", \"rating\", \"timestamp\"]\n",
        "rating = pd.read_csv(\"ml-100k/u.data\", sep = '\\t', header = None, names=rating_header)"
      ]
    },
    {
      "cell_type": "code",
      "execution_count": 62,
      "metadata": {
        "colab": {
          "base_uri": "https://localhost:8080/",
          "height": 206
        },
        "id": "XBLOYhxOBOxb",
        "outputId": "558ef227-adfa-49f9-a85b-54de386d6d18"
      },
      "outputs": [
        {
          "data": {
            "text/html": [
              "<div>\n",
              "<style scoped>\n",
              "    .dataframe tbody tr th:only-of-type {\n",
              "        vertical-align: middle;\n",
              "    }\n",
              "\n",
              "    .dataframe tbody tr th {\n",
              "        vertical-align: top;\n",
              "    }\n",
              "\n",
              "    .dataframe thead th {\n",
              "        text-align: right;\n",
              "    }\n",
              "</style>\n",
              "<table border=\"1\" class=\"dataframe\">\n",
              "  <thead>\n",
              "    <tr style=\"text-align: right;\">\n",
              "      <th></th>\n",
              "      <th>user_id</th>\n",
              "      <th>item_id</th>\n",
              "      <th>rating</th>\n",
              "      <th>timestamp</th>\n",
              "    </tr>\n",
              "  </thead>\n",
              "  <tbody>\n",
              "    <tr>\n",
              "      <th>0</th>\n",
              "      <td>196</td>\n",
              "      <td>242</td>\n",
              "      <td>3</td>\n",
              "      <td>881250949</td>\n",
              "    </tr>\n",
              "    <tr>\n",
              "      <th>1</th>\n",
              "      <td>186</td>\n",
              "      <td>302</td>\n",
              "      <td>3</td>\n",
              "      <td>891717742</td>\n",
              "    </tr>\n",
              "    <tr>\n",
              "      <th>2</th>\n",
              "      <td>22</td>\n",
              "      <td>377</td>\n",
              "      <td>1</td>\n",
              "      <td>878887116</td>\n",
              "    </tr>\n",
              "    <tr>\n",
              "      <th>3</th>\n",
              "      <td>244</td>\n",
              "      <td>51</td>\n",
              "      <td>2</td>\n",
              "      <td>880606923</td>\n",
              "    </tr>\n",
              "    <tr>\n",
              "      <th>4</th>\n",
              "      <td>166</td>\n",
              "      <td>346</td>\n",
              "      <td>1</td>\n",
              "      <td>886397596</td>\n",
              "    </tr>\n",
              "  </tbody>\n",
              "</table>\n",
              "</div>"
            ],
            "text/plain": [
              "   user_id  item_id  rating  timestamp\n",
              "0      196      242       3  881250949\n",
              "1      186      302       3  891717742\n",
              "2       22      377       1  878887116\n",
              "3      244       51       2  880606923\n",
              "4      166      346       1  886397596"
            ]
          },
          "execution_count": 62,
          "metadata": {},
          "output_type": "execute_result"
        }
      ],
      "source": [
        "rating.head()"
      ]
    },
    {
      "cell_type": "code",
      "execution_count": 63,
      "metadata": {
        "colab": {
          "base_uri": "https://localhost:8080/"
        },
        "id": "sWKhKZvQBXxS",
        "outputId": "b9378c9b-96ff-4981-85e3-d677d468d2a0"
      },
      "outputs": [
        {
          "name": "stdout",
          "output_type": "stream",
          "text": [
            "<class 'pandas.core.frame.DataFrame'>\n",
            "RangeIndex: 100000 entries, 0 to 99999\n",
            "Data columns (total 4 columns):\n",
            " #   Column     Non-Null Count   Dtype\n",
            "---  ------     --------------   -----\n",
            " 0   user_id    100000 non-null  int64\n",
            " 1   item_id    100000 non-null  int64\n",
            " 2   rating     100000 non-null  int64\n",
            " 3   timestamp  100000 non-null  int64\n",
            "dtypes: int64(4)\n",
            "memory usage: 3.1 MB\n"
          ]
        }
      ],
      "source": [
        "rating.info()"
      ]
    },
    {
      "cell_type": "code",
      "execution_count": 64,
      "metadata": {
        "id": "qlmDPYWkBhD6"
      },
      "outputs": [],
      "source": [
        "user_header = [\"user_id\", \"age\", \"gender\", \"occupation\", \"zip_code\"]\n",
        "users = pd.read_csv(\"ml-100k/u.user\", sep = '|', header = None, names=user_header)"
      ]
    },
    {
      "cell_type": "code",
      "execution_count": 65,
      "metadata": {
        "colab": {
          "base_uri": "https://localhost:8080/",
          "height": 206
        },
        "id": "4yiZuMFeBmc4",
        "outputId": "10066d5e-9564-4d4c-c75a-f1d69e1bd174"
      },
      "outputs": [
        {
          "data": {
            "text/html": [
              "<div>\n",
              "<style scoped>\n",
              "    .dataframe tbody tr th:only-of-type {\n",
              "        vertical-align: middle;\n",
              "    }\n",
              "\n",
              "    .dataframe tbody tr th {\n",
              "        vertical-align: top;\n",
              "    }\n",
              "\n",
              "    .dataframe thead th {\n",
              "        text-align: right;\n",
              "    }\n",
              "</style>\n",
              "<table border=\"1\" class=\"dataframe\">\n",
              "  <thead>\n",
              "    <tr style=\"text-align: right;\">\n",
              "      <th></th>\n",
              "      <th>user_id</th>\n",
              "      <th>age</th>\n",
              "      <th>gender</th>\n",
              "      <th>occupation</th>\n",
              "      <th>zip_code</th>\n",
              "    </tr>\n",
              "  </thead>\n",
              "  <tbody>\n",
              "    <tr>\n",
              "      <th>0</th>\n",
              "      <td>1</td>\n",
              "      <td>24</td>\n",
              "      <td>M</td>\n",
              "      <td>technician</td>\n",
              "      <td>85711</td>\n",
              "    </tr>\n",
              "    <tr>\n",
              "      <th>1</th>\n",
              "      <td>2</td>\n",
              "      <td>53</td>\n",
              "      <td>F</td>\n",
              "      <td>other</td>\n",
              "      <td>94043</td>\n",
              "    </tr>\n",
              "    <tr>\n",
              "      <th>2</th>\n",
              "      <td>3</td>\n",
              "      <td>23</td>\n",
              "      <td>M</td>\n",
              "      <td>writer</td>\n",
              "      <td>32067</td>\n",
              "    </tr>\n",
              "    <tr>\n",
              "      <th>3</th>\n",
              "      <td>4</td>\n",
              "      <td>24</td>\n",
              "      <td>M</td>\n",
              "      <td>technician</td>\n",
              "      <td>43537</td>\n",
              "    </tr>\n",
              "    <tr>\n",
              "      <th>4</th>\n",
              "      <td>5</td>\n",
              "      <td>33</td>\n",
              "      <td>F</td>\n",
              "      <td>other</td>\n",
              "      <td>15213</td>\n",
              "    </tr>\n",
              "  </tbody>\n",
              "</table>\n",
              "</div>"
            ],
            "text/plain": [
              "   user_id  age gender  occupation zip_code\n",
              "0        1   24      M  technician    85711\n",
              "1        2   53      F       other    94043\n",
              "2        3   23      M      writer    32067\n",
              "3        4   24      M  technician    43537\n",
              "4        5   33      F       other    15213"
            ]
          },
          "execution_count": 65,
          "metadata": {},
          "output_type": "execute_result"
        }
      ],
      "source": [
        "users.head()"
      ]
    },
    {
      "cell_type": "code",
      "execution_count": 66,
      "metadata": {
        "colab": {
          "base_uri": "https://localhost:8080/",
          "height": 112
        },
        "id": "ld9ZxcHfBrIk",
        "outputId": "a10f9c0b-04bf-47a2-c71d-2688b6103185"
      },
      "outputs": [
        {
          "data": {
            "text/html": [
              "<div>\n",
              "<style scoped>\n",
              "    .dataframe tbody tr th:only-of-type {\n",
              "        vertical-align: middle;\n",
              "    }\n",
              "\n",
              "    .dataframe tbody tr th {\n",
              "        vertical-align: top;\n",
              "    }\n",
              "\n",
              "    .dataframe thead th {\n",
              "        text-align: right;\n",
              "    }\n",
              "</style>\n",
              "<table border=\"1\" class=\"dataframe\">\n",
              "  <thead>\n",
              "    <tr style=\"text-align: right;\">\n",
              "      <th></th>\n",
              "      <th>user_id</th>\n",
              "      <th>age</th>\n",
              "      <th>gender</th>\n",
              "      <th>occupation</th>\n",
              "      <th>zip_code</th>\n",
              "    </tr>\n",
              "  </thead>\n",
              "  <tbody>\n",
              "    <tr>\n",
              "      <th>73</th>\n",
              "      <td>74</td>\n",
              "      <td>39</td>\n",
              "      <td>M</td>\n",
              "      <td>scientist</td>\n",
              "      <td>T8H1N</td>\n",
              "    </tr>\n",
              "    <tr>\n",
              "      <th>633</th>\n",
              "      <td>634</td>\n",
              "      <td>39</td>\n",
              "      <td>M</td>\n",
              "      <td>engineer</td>\n",
              "      <td>T8H1N</td>\n",
              "    </tr>\n",
              "  </tbody>\n",
              "</table>\n",
              "</div>"
            ],
            "text/plain": [
              "     user_id  age gender occupation zip_code\n",
              "73        74   39      M  scientist    T8H1N\n",
              "633      634   39      M   engineer    T8H1N"
            ]
          },
          "execution_count": 66,
          "metadata": {},
          "output_type": "execute_result"
        }
      ],
      "source": [
        "users.loc[users['zip_code'] == 'T8H1N']"
      ]
    },
    {
      "cell_type": "code",
      "execution_count": 67,
      "metadata": {
        "colab": {
          "base_uri": "https://localhost:8080/"
        },
        "id": "CbB8UG0-C_Ec",
        "outputId": "3d5e7368-8cba-4870-aaf2-6b5becadc2e7"
      },
      "outputs": [
        {
          "name": "stdout",
          "output_type": "stream",
          "text": [
            "<class 'pandas.core.frame.DataFrame'>\n",
            "RangeIndex: 943 entries, 0 to 942\n",
            "Data columns (total 5 columns):\n",
            " #   Column      Non-Null Count  Dtype \n",
            "---  ------      --------------  ----- \n",
            " 0   user_id     943 non-null    int64 \n",
            " 1   age         943 non-null    int64 \n",
            " 2   gender      943 non-null    object\n",
            " 3   occupation  943 non-null    object\n",
            " 4   zip_code    943 non-null    object\n",
            "dtypes: int64(2), object(3)\n",
            "memory usage: 37.0+ KB\n"
          ]
        }
      ],
      "source": [
        "users.info()"
      ]
    },
    {
      "cell_type": "code",
      "execution_count": 68,
      "metadata": {
        "id": "eUyYlg7UDHFJ"
      },
      "outputs": [],
      "source": [
        "# load movie data into a dataframe\n",
        "movie_header = [\"item_id\", \"title\", \"release_date\", \"video_release_date\", \"IMDb_URL\",\n",
        "         \"unknown\", \"Action\", \"Adventure\", \"Animation\",\"Children's\", \"Comedy\", \"Crime\",\n",
        "         \"Documentary\", \"Drama\", \"Fantasy\", \"Film-Noir\", \"Horror\", \"Musical\", \"Mystery\", \n",
        "         \"Romance\", \"Sci-Fi\", \"Thriller\", \"War\", \"Western\"]\n",
        "movies = pd.read_csv(\"ml-100k/u.item\", sep = '|', header = None, encoding = 'latin1', names = movie_header)"
      ]
    },
    {
      "cell_type": "code",
      "execution_count": 69,
      "metadata": {
        "colab": {
          "base_uri": "https://localhost:8080/",
          "height": 421
        },
        "id": "WFSyfzJKDbRC",
        "outputId": "76f37d51-18fb-4063-c9eb-73f4e55d7ecb"
      },
      "outputs": [
        {
          "data": {
            "text/html": [
              "<div>\n",
              "<style scoped>\n",
              "    .dataframe tbody tr th:only-of-type {\n",
              "        vertical-align: middle;\n",
              "    }\n",
              "\n",
              "    .dataframe tbody tr th {\n",
              "        vertical-align: top;\n",
              "    }\n",
              "\n",
              "    .dataframe thead th {\n",
              "        text-align: right;\n",
              "    }\n",
              "</style>\n",
              "<table border=\"1\" class=\"dataframe\">\n",
              "  <thead>\n",
              "    <tr style=\"text-align: right;\">\n",
              "      <th></th>\n",
              "      <th>item_id</th>\n",
              "      <th>title</th>\n",
              "      <th>release_date</th>\n",
              "      <th>IMDb_URL</th>\n",
              "      <th>unknown</th>\n",
              "      <th>Action</th>\n",
              "      <th>Adventure</th>\n",
              "      <th>Animation</th>\n",
              "      <th>Children's</th>\n",
              "      <th>Comedy</th>\n",
              "      <th>...</th>\n",
              "      <th>Fantasy</th>\n",
              "      <th>Film-Noir</th>\n",
              "      <th>Horror</th>\n",
              "      <th>Musical</th>\n",
              "      <th>Mystery</th>\n",
              "      <th>Romance</th>\n",
              "      <th>Sci-Fi</th>\n",
              "      <th>Thriller</th>\n",
              "      <th>War</th>\n",
              "      <th>Western</th>\n",
              "    </tr>\n",
              "  </thead>\n",
              "  <tbody>\n",
              "    <tr>\n",
              "      <th>0</th>\n",
              "      <td>1</td>\n",
              "      <td>Toy Story (1995)</td>\n",
              "      <td>01-Jan-1995</td>\n",
              "      <td>http://us.imdb.com/M/title-exact?Toy%20Story%2...</td>\n",
              "      <td>0</td>\n",
              "      <td>0</td>\n",
              "      <td>0</td>\n",
              "      <td>1</td>\n",
              "      <td>1</td>\n",
              "      <td>1</td>\n",
              "      <td>...</td>\n",
              "      <td>0</td>\n",
              "      <td>0</td>\n",
              "      <td>0</td>\n",
              "      <td>0</td>\n",
              "      <td>0</td>\n",
              "      <td>0</td>\n",
              "      <td>0</td>\n",
              "      <td>0</td>\n",
              "      <td>0</td>\n",
              "      <td>0</td>\n",
              "    </tr>\n",
              "    <tr>\n",
              "      <th>1</th>\n",
              "      <td>2</td>\n",
              "      <td>GoldenEye (1995)</td>\n",
              "      <td>01-Jan-1995</td>\n",
              "      <td>http://us.imdb.com/M/title-exact?GoldenEye%20(...</td>\n",
              "      <td>0</td>\n",
              "      <td>1</td>\n",
              "      <td>1</td>\n",
              "      <td>0</td>\n",
              "      <td>0</td>\n",
              "      <td>0</td>\n",
              "      <td>...</td>\n",
              "      <td>0</td>\n",
              "      <td>0</td>\n",
              "      <td>0</td>\n",
              "      <td>0</td>\n",
              "      <td>0</td>\n",
              "      <td>0</td>\n",
              "      <td>0</td>\n",
              "      <td>1</td>\n",
              "      <td>0</td>\n",
              "      <td>0</td>\n",
              "    </tr>\n",
              "    <tr>\n",
              "      <th>2</th>\n",
              "      <td>3</td>\n",
              "      <td>Four Rooms (1995)</td>\n",
              "      <td>01-Jan-1995</td>\n",
              "      <td>http://us.imdb.com/M/title-exact?Four%20Rooms%...</td>\n",
              "      <td>0</td>\n",
              "      <td>0</td>\n",
              "      <td>0</td>\n",
              "      <td>0</td>\n",
              "      <td>0</td>\n",
              "      <td>0</td>\n",
              "      <td>...</td>\n",
              "      <td>0</td>\n",
              "      <td>0</td>\n",
              "      <td>0</td>\n",
              "      <td>0</td>\n",
              "      <td>0</td>\n",
              "      <td>0</td>\n",
              "      <td>0</td>\n",
              "      <td>1</td>\n",
              "      <td>0</td>\n",
              "      <td>0</td>\n",
              "    </tr>\n",
              "    <tr>\n",
              "      <th>3</th>\n",
              "      <td>4</td>\n",
              "      <td>Get Shorty (1995)</td>\n",
              "      <td>01-Jan-1995</td>\n",
              "      <td>http://us.imdb.com/M/title-exact?Get%20Shorty%...</td>\n",
              "      <td>0</td>\n",
              "      <td>1</td>\n",
              "      <td>0</td>\n",
              "      <td>0</td>\n",
              "      <td>0</td>\n",
              "      <td>1</td>\n",
              "      <td>...</td>\n",
              "      <td>0</td>\n",
              "      <td>0</td>\n",
              "      <td>0</td>\n",
              "      <td>0</td>\n",
              "      <td>0</td>\n",
              "      <td>0</td>\n",
              "      <td>0</td>\n",
              "      <td>0</td>\n",
              "      <td>0</td>\n",
              "      <td>0</td>\n",
              "    </tr>\n",
              "    <tr>\n",
              "      <th>4</th>\n",
              "      <td>5</td>\n",
              "      <td>Copycat (1995)</td>\n",
              "      <td>01-Jan-1995</td>\n",
              "      <td>http://us.imdb.com/M/title-exact?Copycat%20(1995)</td>\n",
              "      <td>0</td>\n",
              "      <td>0</td>\n",
              "      <td>0</td>\n",
              "      <td>0</td>\n",
              "      <td>0</td>\n",
              "      <td>0</td>\n",
              "      <td>...</td>\n",
              "      <td>0</td>\n",
              "      <td>0</td>\n",
              "      <td>0</td>\n",
              "      <td>0</td>\n",
              "      <td>0</td>\n",
              "      <td>0</td>\n",
              "      <td>0</td>\n",
              "      <td>1</td>\n",
              "      <td>0</td>\n",
              "      <td>0</td>\n",
              "    </tr>\n",
              "  </tbody>\n",
              "</table>\n",
              "<p>5 rows × 23 columns</p>\n",
              "</div>"
            ],
            "text/plain": [
              "   item_id              title release_date  \\\n",
              "0        1   Toy Story (1995)  01-Jan-1995   \n",
              "1        2   GoldenEye (1995)  01-Jan-1995   \n",
              "2        3  Four Rooms (1995)  01-Jan-1995   \n",
              "3        4  Get Shorty (1995)  01-Jan-1995   \n",
              "4        5     Copycat (1995)  01-Jan-1995   \n",
              "\n",
              "                                            IMDb_URL  unknown  Action  \\\n",
              "0  http://us.imdb.com/M/title-exact?Toy%20Story%2...        0       0   \n",
              "1  http://us.imdb.com/M/title-exact?GoldenEye%20(...        0       1   \n",
              "2  http://us.imdb.com/M/title-exact?Four%20Rooms%...        0       0   \n",
              "3  http://us.imdb.com/M/title-exact?Get%20Shorty%...        0       1   \n",
              "4  http://us.imdb.com/M/title-exact?Copycat%20(1995)        0       0   \n",
              "\n",
              "   Adventure  Animation  Children's  Comedy  ...  Fantasy  Film-Noir  Horror  \\\n",
              "0          0          1           1       1  ...        0          0       0   \n",
              "1          1          0           0       0  ...        0          0       0   \n",
              "2          0          0           0       0  ...        0          0       0   \n",
              "3          0          0           0       1  ...        0          0       0   \n",
              "4          0          0           0       0  ...        0          0       0   \n",
              "\n",
              "   Musical  Mystery  Romance  Sci-Fi  Thriller  War  Western  \n",
              "0        0        0        0       0         0    0        0  \n",
              "1        0        0        0       0         1    0        0  \n",
              "2        0        0        0       0         1    0        0  \n",
              "3        0        0        0       0         0    0        0  \n",
              "4        0        0        0       0         1    0        0  \n",
              "\n",
              "[5 rows x 23 columns]"
            ]
          },
          "execution_count": 69,
          "metadata": {},
          "output_type": "execute_result"
        }
      ],
      "source": [
        "# remove the video release date (no values)\n",
        "movies = movies.drop(columns=['video_release_date'])\n",
        "movies.head()"
      ]
    },
    {
      "cell_type": "code",
      "execution_count": 70,
      "metadata": {
        "colab": {
          "base_uri": "https://localhost:8080/"
        },
        "id": "HUfKIIfUDb7o",
        "outputId": "52569f8c-1f8f-4df2-aa9b-131c673fb3ba"
      },
      "outputs": [
        {
          "name": "stdout",
          "output_type": "stream",
          "text": [
            "<class 'pandas.core.frame.DataFrame'>\n",
            "RangeIndex: 1682 entries, 0 to 1681\n",
            "Data columns (total 23 columns):\n",
            " #   Column        Non-Null Count  Dtype \n",
            "---  ------        --------------  ----- \n",
            " 0   item_id       1682 non-null   int64 \n",
            " 1   title         1682 non-null   object\n",
            " 2   release_date  1681 non-null   object\n",
            " 3   IMDb_URL      1679 non-null   object\n",
            " 4   unknown       1682 non-null   int64 \n",
            " 5   Action        1682 non-null   int64 \n",
            " 6   Adventure     1682 non-null   int64 \n",
            " 7   Animation     1682 non-null   int64 \n",
            " 8   Children's    1682 non-null   int64 \n",
            " 9   Comedy        1682 non-null   int64 \n",
            " 10  Crime         1682 non-null   int64 \n",
            " 11  Documentary   1682 non-null   int64 \n",
            " 12  Drama         1682 non-null   int64 \n",
            " 13  Fantasy       1682 non-null   int64 \n",
            " 14  Film-Noir     1682 non-null   int64 \n",
            " 15  Horror        1682 non-null   int64 \n",
            " 16  Musical       1682 non-null   int64 \n",
            " 17  Mystery       1682 non-null   int64 \n",
            " 18  Romance       1682 non-null   int64 \n",
            " 19  Sci-Fi        1682 non-null   int64 \n",
            " 20  Thriller      1682 non-null   int64 \n",
            " 21  War           1682 non-null   int64 \n",
            " 22  Western       1682 non-null   int64 \n",
            "dtypes: int64(20), object(3)\n",
            "memory usage: 302.4+ KB\n"
          ]
        }
      ],
      "source": [
        "movies.info()"
      ]
    },
    {
      "cell_type": "markdown",
      "metadata": {
        "id": "lNsrnvNbDzkK"
      },
      "source": [
        "# Data Transformation & Combination"
      ]
    },
    {
      "cell_type": "code",
      "execution_count": 71,
      "metadata": {
        "id": "gP-DkCU7D6El"
      },
      "outputs": [],
      "source": [
        "users_num = users.copy()\n",
        "users_num[\"gender\"].replace(['F', 'M'],[0, 1], inplace=True) # replace F and M with 0 and 1, respectively"
      ]
    },
    {
      "cell_type": "code",
      "execution_count": 72,
      "metadata": {
        "colab": {
          "base_uri": "https://localhost:8080/",
          "height": 206
        },
        "id": "llCryYmMD87w",
        "outputId": "3439e901-96fd-470b-fe5d-a7723cc36422"
      },
      "outputs": [
        {
          "data": {
            "text/html": [
              "<div>\n",
              "<style scoped>\n",
              "    .dataframe tbody tr th:only-of-type {\n",
              "        vertical-align: middle;\n",
              "    }\n",
              "\n",
              "    .dataframe tbody tr th {\n",
              "        vertical-align: top;\n",
              "    }\n",
              "\n",
              "    .dataframe thead th {\n",
              "        text-align: right;\n",
              "    }\n",
              "</style>\n",
              "<table border=\"1\" class=\"dataframe\">\n",
              "  <thead>\n",
              "    <tr style=\"text-align: right;\">\n",
              "      <th></th>\n",
              "      <th>user_id</th>\n",
              "      <th>age</th>\n",
              "      <th>gender</th>\n",
              "      <th>occupation</th>\n",
              "      <th>zip_code</th>\n",
              "    </tr>\n",
              "  </thead>\n",
              "  <tbody>\n",
              "    <tr>\n",
              "      <th>0</th>\n",
              "      <td>1</td>\n",
              "      <td>24</td>\n",
              "      <td>1</td>\n",
              "      <td>19</td>\n",
              "      <td>85711</td>\n",
              "    </tr>\n",
              "    <tr>\n",
              "      <th>1</th>\n",
              "      <td>2</td>\n",
              "      <td>53</td>\n",
              "      <td>0</td>\n",
              "      <td>13</td>\n",
              "      <td>94043</td>\n",
              "    </tr>\n",
              "    <tr>\n",
              "      <th>2</th>\n",
              "      <td>3</td>\n",
              "      <td>23</td>\n",
              "      <td>1</td>\n",
              "      <td>20</td>\n",
              "      <td>32067</td>\n",
              "    </tr>\n",
              "    <tr>\n",
              "      <th>3</th>\n",
              "      <td>4</td>\n",
              "      <td>24</td>\n",
              "      <td>1</td>\n",
              "      <td>19</td>\n",
              "      <td>43537</td>\n",
              "    </tr>\n",
              "    <tr>\n",
              "      <th>4</th>\n",
              "      <td>5</td>\n",
              "      <td>33</td>\n",
              "      <td>0</td>\n",
              "      <td>13</td>\n",
              "      <td>15213</td>\n",
              "    </tr>\n",
              "  </tbody>\n",
              "</table>\n",
              "</div>"
            ],
            "text/plain": [
              "   user_id  age  gender  occupation zip_code\n",
              "0        1   24       1          19    85711\n",
              "1        2   53       0          13    94043\n",
              "2        3   23       1          20    32067\n",
              "3        4   24       1          19    43537\n",
              "4        5   33       0          13    15213"
            ]
          },
          "execution_count": 72,
          "metadata": {},
          "output_type": "execute_result"
        }
      ],
      "source": [
        "occupation = pd.read_csv(\"ml-100k/u.occupation\", header = None)\n",
        "occupation_list = occupation.values\n",
        "users_num[\"occupation\"].replace(occupation_list,list(range(0, len(occupation_list))), inplace=True)\n",
        "users_num.head()"
      ]
    },
    {
      "cell_type": "code",
      "execution_count": 108,
      "metadata": {
        "colab": {
          "base_uri": "https://localhost:8080/",
          "height": 206
        },
        "id": "BXFqL1lRDXxF",
        "outputId": "05dc2f66-05cf-4516-ba78-48d9ffd153d4"
      },
      "outputs": [
        {
          "data": {
            "text/html": [
              "<div>\n",
              "<style scoped>\n",
              "    .dataframe tbody tr th:only-of-type {\n",
              "        vertical-align: middle;\n",
              "    }\n",
              "\n",
              "    .dataframe tbody tr th {\n",
              "        vertical-align: top;\n",
              "    }\n",
              "\n",
              "    .dataframe thead th {\n",
              "        text-align: right;\n",
              "    }\n",
              "</style>\n",
              "<table border=\"1\" class=\"dataframe\">\n",
              "  <thead>\n",
              "    <tr style=\"text-align: right;\">\n",
              "      <th></th>\n",
              "      <th>item_id</th>\n",
              "      <th>rating</th>\n",
              "      <th>How many times</th>\n",
              "    </tr>\n",
              "  </thead>\n",
              "  <tbody>\n",
              "    <tr>\n",
              "      <th>0</th>\n",
              "      <td>1</td>\n",
              "      <td>3.878319</td>\n",
              "      <td>452</td>\n",
              "    </tr>\n",
              "    <tr>\n",
              "      <th>1</th>\n",
              "      <td>2</td>\n",
              "      <td>3.206107</td>\n",
              "      <td>131</td>\n",
              "    </tr>\n",
              "    <tr>\n",
              "      <th>2</th>\n",
              "      <td>3</td>\n",
              "      <td>3.033333</td>\n",
              "      <td>90</td>\n",
              "    </tr>\n",
              "    <tr>\n",
              "      <th>3</th>\n",
              "      <td>4</td>\n",
              "      <td>3.550239</td>\n",
              "      <td>209</td>\n",
              "    </tr>\n",
              "    <tr>\n",
              "      <th>4</th>\n",
              "      <td>5</td>\n",
              "      <td>3.302326</td>\n",
              "      <td>86</td>\n",
              "    </tr>\n",
              "    <tr>\n",
              "      <th>...</th>\n",
              "      <td>...</td>\n",
              "      <td>...</td>\n",
              "      <td>...</td>\n",
              "    </tr>\n",
              "    <tr>\n",
              "      <th>1677</th>\n",
              "      <td>1678</td>\n",
              "      <td>1.000000</td>\n",
              "      <td>1</td>\n",
              "    </tr>\n",
              "    <tr>\n",
              "      <th>1678</th>\n",
              "      <td>1679</td>\n",
              "      <td>3.000000</td>\n",
              "      <td>1</td>\n",
              "    </tr>\n",
              "    <tr>\n",
              "      <th>1679</th>\n",
              "      <td>1680</td>\n",
              "      <td>2.000000</td>\n",
              "      <td>1</td>\n",
              "    </tr>\n",
              "    <tr>\n",
              "      <th>1680</th>\n",
              "      <td>1681</td>\n",
              "      <td>3.000000</td>\n",
              "      <td>1</td>\n",
              "    </tr>\n",
              "    <tr>\n",
              "      <th>1681</th>\n",
              "      <td>1682</td>\n",
              "      <td>3.000000</td>\n",
              "      <td>1</td>\n",
              "    </tr>\n",
              "  </tbody>\n",
              "</table>\n",
              "<p>1682 rows × 3 columns</p>\n",
              "</div>"
            ],
            "text/plain": [
              "      item_id    rating  How many times\n",
              "0           1  3.878319             452\n",
              "1           2  3.206107             131\n",
              "2           3  3.033333              90\n",
              "3           4  3.550239             209\n",
              "4           5  3.302326              86\n",
              "...       ...       ...             ...\n",
              "1677     1678  1.000000               1\n",
              "1678     1679  3.000000               1\n",
              "1679     1680  2.000000               1\n",
              "1680     1681  3.000000               1\n",
              "1681     1682  3.000000               1\n",
              "\n",
              "[1682 rows x 3 columns]"
            ]
          },
          "execution_count": 108,
          "metadata": {},
          "output_type": "execute_result"
        }
      ],
      "source": [
        "# data aggregation\n",
        "average_rating = rating[[\"item_id\", \"rating\"]].groupby(\"item_id\", as_index=False).mean()  # average rating per movie\n",
        "average_rating.sort_values(\"rating\",ascending=False)\n",
        "temp = rating[[\"item_id\",\"rating\"]].groupby(by=['item_id']).count().reset_index()\n",
        "average_rating[\"How many times\"] = temp[\"rating\"]\n",
        "average_rating"
      ]
    },
    {
      "cell_type": "code",
      "execution_count": null,
      "metadata": {
        "colab": {
          "base_uri": "https://localhost:8080/",
          "height": 424
        },
        "id": "aoPemDY-Elgf",
        "outputId": "80b3dbf5-c682-44c3-b8e5-150f71a145d1"
      },
      "outputs": [
        {
          "data": {
            "text/html": [
              "<div>\n",
              "<style scoped>\n",
              "    .dataframe tbody tr th:only-of-type {\n",
              "        vertical-align: middle;\n",
              "    }\n",
              "\n",
              "    .dataframe tbody tr th {\n",
              "        vertical-align: top;\n",
              "    }\n",
              "\n",
              "    .dataframe thead th {\n",
              "        text-align: right;\n",
              "    }\n",
              "</style>\n",
              "<table border=\"1\" class=\"dataframe\">\n",
              "  <thead>\n",
              "    <tr style=\"text-align: right;\">\n",
              "      <th></th>\n",
              "      <th>item_id</th>\n",
              "      <th>rating</th>\n",
              "      <th>title</th>\n",
              "    </tr>\n",
              "  </thead>\n",
              "  <tbody>\n",
              "    <tr>\n",
              "      <th>0</th>\n",
              "      <td>1</td>\n",
              "      <td>3.878319</td>\n",
              "      <td>Toy Story (1995)</td>\n",
              "    </tr>\n",
              "    <tr>\n",
              "      <th>1</th>\n",
              "      <td>2</td>\n",
              "      <td>3.206107</td>\n",
              "      <td>GoldenEye (1995)</td>\n",
              "    </tr>\n",
              "    <tr>\n",
              "      <th>2</th>\n",
              "      <td>3</td>\n",
              "      <td>3.033333</td>\n",
              "      <td>Four Rooms (1995)</td>\n",
              "    </tr>\n",
              "    <tr>\n",
              "      <th>3</th>\n",
              "      <td>4</td>\n",
              "      <td>3.550239</td>\n",
              "      <td>Get Shorty (1995)</td>\n",
              "    </tr>\n",
              "    <tr>\n",
              "      <th>4</th>\n",
              "      <td>5</td>\n",
              "      <td>3.302326</td>\n",
              "      <td>Copycat (1995)</td>\n",
              "    </tr>\n",
              "    <tr>\n",
              "      <th>...</th>\n",
              "      <td>...</td>\n",
              "      <td>...</td>\n",
              "      <td>...</td>\n",
              "    </tr>\n",
              "    <tr>\n",
              "      <th>1677</th>\n",
              "      <td>1678</td>\n",
              "      <td>1.000000</td>\n",
              "      <td>Mat' i syn (1997)</td>\n",
              "    </tr>\n",
              "    <tr>\n",
              "      <th>1678</th>\n",
              "      <td>1679</td>\n",
              "      <td>3.000000</td>\n",
              "      <td>B. Monkey (1998)</td>\n",
              "    </tr>\n",
              "    <tr>\n",
              "      <th>1679</th>\n",
              "      <td>1680</td>\n",
              "      <td>2.000000</td>\n",
              "      <td>Sliding Doors (1998)</td>\n",
              "    </tr>\n",
              "    <tr>\n",
              "      <th>1680</th>\n",
              "      <td>1681</td>\n",
              "      <td>3.000000</td>\n",
              "      <td>You So Crazy (1994)</td>\n",
              "    </tr>\n",
              "    <tr>\n",
              "      <th>1681</th>\n",
              "      <td>1682</td>\n",
              "      <td>3.000000</td>\n",
              "      <td>Scream of Stone (Schrei aus Stein) (1991)</td>\n",
              "    </tr>\n",
              "  </tbody>\n",
              "</table>\n",
              "<p>1682 rows × 3 columns</p>\n",
              "</div>"
            ],
            "text/plain": [
              "      item_id    rating                                      title\n",
              "0           1  3.878319                           Toy Story (1995)\n",
              "1           2  3.206107                           GoldenEye (1995)\n",
              "2           3  3.033333                          Four Rooms (1995)\n",
              "3           4  3.550239                          Get Shorty (1995)\n",
              "4           5  3.302326                             Copycat (1995)\n",
              "...       ...       ...                                        ...\n",
              "1677     1678  1.000000                          Mat' i syn (1997)\n",
              "1678     1679  3.000000                           B. Monkey (1998)\n",
              "1679     1680  2.000000                       Sliding Doors (1998)\n",
              "1680     1681  3.000000                        You So Crazy (1994)\n",
              "1681     1682  3.000000  Scream of Stone (Schrei aus Stein) (1991)\n",
              "\n",
              "[1682 rows x 3 columns]"
            ]
          },
          "execution_count": 15,
          "metadata": {},
          "output_type": "execute_result"
        }
      ],
      "source": [
        "# merge two dataframes (average_rating and movies)\n",
        "pd.merge(average_rating, movies[[\"item_id\", \"title\"]])"
      ]
    },
    {
      "cell_type": "markdown",
      "metadata": {
        "id": "kt_WcRNwFNoP"
      },
      "source": [
        "# Analyze The Data"
      ]
    },
    {
      "cell_type": "code",
      "execution_count": null,
      "metadata": {
        "colab": {
          "base_uri": "https://localhost:8080/",
          "height": 319
        },
        "id": "RortGVFPEpmx",
        "outputId": "e3385bd3-9987-44cf-a04f-497d258ad967"
      },
      "outputs": [
        {
          "data": {
            "text/plain": [
              "array([[<AxesSubplot:title={'center':'age'}>]], dtype=object)"
            ]
          },
          "execution_count": 16,
          "metadata": {},
          "output_type": "execute_result"
        },
        {
          "data": {
            "image/png": "[encoded data removed]",
            "text/plain": [
              "<Figure size 432x288 with 1 Axes>"
            ]
          },
          "metadata": {
            "needs_background": "light"
          },
          "output_type": "display_data"
        }
      ],
      "source": [
        "# age intervals distrubution\n",
        "users.hist(column=\"age\")\n",
        "#users[\"age_category\"] = pd.cut(users[\"age\"], bins = [0, 10, 20, 30, 40, 50, 60, 70, 80], labels=[5, 15, 25, 35, 45, 55, 65, 75])\n",
        "#users[\"age_category\"].hist()"
      ]
    },
    {
      "cell_type": "code",
      "execution_count": null,
      "metadata": {},
      "outputs": [
        {
          "data": {
            "image/png": "[encoded data removed]",
            "text/plain": [
              "<Figure size 432x288 with 1 Axes>"
            ]
          },
          "metadata": {},
          "output_type": "display_data"
        }
      ],
      "source": [
        "temp = users.groupby('gender')\n",
        "plt.pie([temp.get_group(\"M\").size,temp.get_group(\"F\").size],labels=[\"Male\",\"Female\"],autopct='%1.1f%%')\n",
        "plt.axis(\"equal\")\n",
        "plt.show()"
      ]
    },
    {
      "cell_type": "code",
      "execution_count": null,
      "metadata": {
        "colab": {
          "base_uri": "https://localhost:8080/",
          "height": 264
        },
        "id": "ZS7ez56NFroJ",
        "outputId": "b3a8df21-e784-435d-d990-201d5dfd39c4"
      },
      "outputs": [
        {
          "data": {
            "image/png": "[encoded data removed]",
            "text/plain": [
              "<Figure size 432x288 with 1 Axes>"
            ]
          },
          "metadata": {},
          "output_type": "display_data"
        }
      ],
      "source": [
        "# occupation distrubution\n",
        "occupation_count = users[[\"user_id\", \"occupation\"]].groupby(\"occupation\", as_index=False).size()  # count the numbers\n",
        "plt.pie(occupation_count[\"size\"], labels=occupation_count[\"occupation\"])\n",
        "plt.title(\"User's Occupation Distribution\")\n",
        "plt.axis(\"equal\")\n",
        "plt.show()"
      ]
    },
    {
      "cell_type": "code",
      "execution_count": null,
      "metadata": {},
      "outputs": [
        {
          "name": "stderr",
          "output_type": "stream",
          "text": [
            "C:\\Users\\steve\\AppData\\Local\\Temp\\ipykernel_6516\\2603995410.py:11: SettingWithCopyWarning: \n",
            "A value is trying to be set on a copy of a slice from a DataFrame\n",
            "\n",
            "See the caveats in the documentation: https://pandas.pydata.org/pandas-docs/stable/user_guide/indexing.html#returning-a-view-versus-a-copy\n",
            "  temp[\"zip_code\"][i] = int(temp[\"zip_code\"][i])\n",
            "C:\\Users\\steve\\AppData\\Local\\Temp\\ipykernel_6516\\2603995410.py:13: SettingWithCopyWarning: \n",
            "A value is trying to be set on a copy of a slice from a DataFrame\n",
            "\n",
            "See the caveats in the documentation: https://pandas.pydata.org/pandas-docs/stable/user_guide/indexing.html#returning-a-view-versus-a-copy\n",
            "  temp[\"zip_code\"][i] = 99999\n",
            "C:\\Users\\steve\\AppData\\Local\\Temp\\ipykernel_6516\\2603995410.py:32: SettingWithCopyWarning: \n",
            "A value is trying to be set on a copy of a slice from a DataFrame\n",
            "\n",
            "See the caveats in the documentation: https://pandas.pydata.org/pandas-docs/stable/user_guide/indexing.html#returning-a-view-versus-a-copy\n",
            "  temp[\"City\"][i]=citylist[\"USPS\"][j]\n",
            "C:\\Users\\steve\\AppData\\Local\\Temp\\ipykernel_6516\\2603995410.py:29: SettingWithCopyWarning: \n",
            "A value is trying to be set on a copy of a slice from a DataFrame\n",
            "\n",
            "See the caveats in the documentation: https://pandas.pydata.org/pandas-docs/stable/user_guide/indexing.html#returning-a-view-versus-a-copy\n",
            "  temp[\"City\"][i]=\"OO\"\n"
          ]
        },
        {
          "name": "stdout",
          "output_type": "stream",
          "text": [
            "    index USPS           State        ZIP Code   State Capital  \\\n",
            "0       0   AL         Alabama  35004 to 36925      Montgomery   \n",
            "1       1   AK          Alaska  99501 to 99950          Juneau   \n",
            "2       2   AZ         Arizona  85001 to 86556         Phoenix   \n",
            "3       3   AR        Arkansas  71601 to 72959     Little Rock   \n",
            "4       4   CA      California  90001 to 96162      Sacramento   \n",
            "5       5   CO        Colorado  80001 to 81658          Denver   \n",
            "6       6   CT     Connecticut  06001 to 06928        Hartford   \n",
            "7       7   DE        Delaware  19701 to 19980           Dover   \n",
            "8       8   FL         Florida  32003 to 34997     Tallahassee   \n",
            "9       9   GA         Georgia  30002 to 39901         Atlanta   \n",
            "10     10   HI          Hawaii  96701 to 96898        Honolulu   \n",
            "11     11   ID           Idaho  83201 to 83877           Boise   \n",
            "12     12   IL        Illinois  60001 to 62999     Springfield   \n",
            "13     13   IN         Indiana  46001 to 47997    Indianapolis   \n",
            "14     14   IA            Iowa  50001 to 52809      Des Moines   \n",
            "15     15   KS          Kansas  66002 to 67954          Topeka   \n",
            "16     16   KY        Kentucky  40003 to 42788       Frankfort   \n",
            "17     17   LA       Louisiana  70001 to 71497     Baton Rouge   \n",
            "18     18   ME           Maine  03901 to 04992         Augusta   \n",
            "19     19   MD        Maryland  20588 to 21930       Annapolis   \n",
            "20     20   MA   Massachusetts  01001 to 05544          Boston   \n",
            "21     21   MI        Michigan  48001 to 49971         Lansing   \n",
            "22     22   MN       Minnesota  55001 to 56763      Saint Paul   \n",
            "23     23   MS     Mississippi  38601 to 39776         Jackson   \n",
            "24     24   MO        Missouri  63001 to 65899  Jefferson City   \n",
            "25     25   MT         Montana  59001 to 59937          Helena   \n",
            "26     26   NE        Nebraska  68001 to 69367         Lincoln   \n",
            "27     27   NV          Nevada  88901 to 89883     Carson City   \n",
            "28     28   NH   New Hampshire  03031 to 03897         Concord   \n",
            "29     29   NJ      New Jersey  07001 to 08989         Trenton   \n",
            "30     30   NM      New Mexico  87001 to 88439        Santa Fe   \n",
            "31     31   NY        New York  00501 to 14925          Albany   \n",
            "32     32   NC  North Carolina  27006 to 28909         Raleigh   \n",
            "33     33   ND    North Dakota  58001 to 58856        Bismarck   \n",
            "34     34   OH            Ohio  43001 to 45999        Columbus   \n",
            "35     35   OK        Oklahoma  73001 to 74966   Oklahoma City   \n",
            "36     36   OR          Oregon  97001 to 97920           Salem   \n",
            "37     37   PA    Pennsylvania  15001 to 19640      Harrisburg   \n",
            "38     38   RI    Rhode Island  02801 to 02940      Providence   \n",
            "39     39   SC  South Carolina  29001 to 29945        Columbia   \n",
            "40     40   SD    South Dakota  57001 to 57799          Pierre   \n",
            "41     41   TN       Tennessee  37010 to 38589       Nashville   \n",
            "42     42   TX           Texas  73301 to 88595          Austin   \n",
            "43     43   UT            Utah  84001 to 84791  Salt Lake City   \n",
            "44     44   VT         Vermont  05001 to 05907      Montpelier   \n",
            "45     45   VA        Virginia  20101 to 24658        Richmond   \n",
            "46     46   WA      Washington  98001 to 99403         Olympia   \n",
            "47     47   WV   West Virginia  24701 to 26886      Charleston   \n",
            "48     48   WI       Wisconsin  53001 to 54990         Madison   \n",
            "49     49   WY         Wyoming  82001 to 83414        Cheyenne   \n",
            "50      0   AS             NaN           96799             NaN   \n",
            "51      1   GU             NaN  96910 to 96932             NaN   \n",
            "52      2   MP             NaN  96950 to 96952             NaN   \n",
            "53      3   PR             NaN  00601 to 00988             NaN   \n",
            "54      4   VI             NaN  00801 to 00851             NaN   \n",
            "\n",
            "                   Territory           Capital   Zip1     Zip2  \n",
            "0                        NaN               NaN  35004  36925.0  \n",
            "1                        NaN               NaN  99501  99950.0  \n",
            "2                        NaN               NaN  85001  86556.0  \n",
            "3                        NaN               NaN  71601  72959.0  \n",
            "4                        NaN               NaN  90001  96162.0  \n",
            "5                        NaN               NaN  80001  81658.0  \n",
            "6                        NaN               NaN   6001   6928.0  \n",
            "7                        NaN               NaN  19701  19980.0  \n",
            "8                        NaN               NaN  32003  34997.0  \n",
            "9                        NaN               NaN  30002  39901.0  \n",
            "10                       NaN               NaN  96701  96898.0  \n",
            "11                       NaN               NaN  83201  83877.0  \n",
            "12                       NaN               NaN  60001  62999.0  \n",
            "13                       NaN               NaN  46001  47997.0  \n",
            "14                       NaN               NaN  50001  52809.0  \n",
            "15                       NaN               NaN  66002  67954.0  \n",
            "16                       NaN               NaN  40003  42788.0  \n",
            "17                       NaN               NaN  70001  71497.0  \n",
            "18                       NaN               NaN   3901   4992.0  \n",
            "19                       NaN               NaN  20588  21930.0  \n",
            "20                       NaN               NaN   1001   5544.0  \n",
            "21                       NaN               NaN  48001  49971.0  \n",
            "22                       NaN               NaN  55001  56763.0  \n",
            "23                       NaN               NaN  38601  39776.0  \n",
            "24                       NaN               NaN  63001  65899.0  \n",
            "25                       NaN               NaN  59001  59937.0  \n",
            "26                       NaN               NaN  68001  69367.0  \n",
            "27                       NaN               NaN  88901  89883.0  \n",
            "28                       NaN               NaN   3031   3897.0  \n",
            "29                       NaN               NaN   7001   8989.0  \n",
            "30                       NaN               NaN  87001  88439.0  \n",
            "31                       NaN               NaN    501  14925.0  \n",
            "32                       NaN               NaN  27006  28909.0  \n",
            "33                       NaN               NaN  58001  58856.0  \n",
            "34                       NaN               NaN  43001  45999.0  \n",
            "35                       NaN               NaN  73001  74966.0  \n",
            "36                       NaN               NaN  97001  97920.0  \n",
            "37                       NaN               NaN  15001  19640.0  \n",
            "38                       NaN               NaN   2801   2940.0  \n",
            "39                       NaN               NaN  29001  29945.0  \n",
            "40                       NaN               NaN  57001  57799.0  \n",
            "41                       NaN               NaN  37010  38589.0  \n",
            "42                       NaN               NaN  73301  88595.0  \n",
            "43                       NaN               NaN  84001  84791.0  \n",
            "44                       NaN               NaN   5001   5907.0  \n",
            "45                       NaN               NaN  20101  24658.0  \n",
            "46                       NaN               NaN  98001  99403.0  \n",
            "47                       NaN               NaN  24701  26886.0  \n",
            "48                       NaN               NaN  53001  54990.0  \n",
            "49                       NaN               NaN  82001  83414.0  \n",
            "50            American Samoa         Pago Pago  96799      NaN  \n",
            "51                      Guam           Hagåtña  96910  96932.0  \n",
            "52  Northern Mariana Islands            Saipan  96950  96952.0  \n",
            "53               Puerto Rico          San Juan    601    988.0  \n",
            "54       U.S. Virgin Islands  Charlotte Amalie    801    851.0  \n",
            "     user_id  age gender     occupation zip_code City\n",
            "0          1   24      M     technician    85711   TX\n",
            "1          2   53      F          other    94043   CA\n",
            "2          3   23      M         writer    32067   GA\n",
            "3          4   24      M     technician    43537   OH\n",
            "4          5   33      F          other    15213   PA\n",
            "..       ...  ...    ...            ...      ...  ...\n",
            "938      939   26      F        student    33319   GA\n",
            "939      940   32      M  administrator     2215   NY\n",
            "940      941   20      M        student    97229   OR\n",
            "941      942   48      F      librarian    78209   TX\n",
            "942      943   22      M        student    77841   TX\n",
            "\n",
            "[943 rows x 6 columns]\n"
          ]
        }
      ],
      "source": [
        "# #Grouping by Zip_Code\n",
        "# citylist = pd.read_html(\"https://www.zipcode.com.ng/2022/06/list-of-5-digit-zip-codes-united-states.html\")\n",
        "# citylist = pd.concat([citylist[1],citylist[3]]) #append to the list since we have 4 tables inside the results\n",
        "# citylist = citylist.reset_index()\n",
        "# temp = users.copy()\n",
        "\n",
        "# #Changing to integer for convenience\n",
        "# #For temp\n",
        "# for i in range(len(temp)):\n",
        "#     if (temp[\"zip_code\"][i].isdigit()):\n",
        "#         temp[\"zip_code\"][i] = int(temp[\"zip_code\"][i])\n",
        "#     else:\n",
        "#         temp[\"zip_code\"][i] = 99999\n",
        "\n",
        "# #For Citylist\n",
        "# for i in range(len(citylist)):\n",
        "#     if(citylist[\"ZIP Code\"].map(lambda x: int(x[0:5]))[i]):\n",
        "#         citylist[\"Zip1\"] = citylist[\"ZIP Code\"].map(lambda x: int(x[0:5]))\n",
        "# for i in range(len(citylist)):\n",
        "#     if(i!=50):\n",
        "#         citylist[\"Zip2\"] = citylist[\"ZIP Code\"].map(lambda x: int(x[9:]) if x[9:] != '' else None)\n",
        "\n",
        "# temp[\"City\"] = \"\" #Create a new table member\n",
        "\n",
        "# #Start working with the data by naming the city\n",
        "# for i in range(0,len(temp)):\n",
        "#     for j in range(0,len(citylist)):\n",
        "#         if(temp[\"zip_code\"][i]==99999):\n",
        "#             temp[\"City\"][i]=\"OO\"\n",
        "#             continue\n",
        "#         elif(temp[\"zip_code\"][i]>=citylist[\"Zip1\"][j] and temp[\"zip_code\"][i]<=citylist[\"Zip2\"][j]):\n",
        "#             temp[\"City\"][i]=citylist[\"USPS\"][j]\n",
        "#             continue\n",
        "# print(citylist)\n",
        "# print(temp)\n"
      ]
    },
    {
      "cell_type": "markdown",
      "metadata": {
        "id": "ITI_SBod6hia"
      },
      "source": [
        "# Analyze Movie Data"
      ]
    },
    {
      "cell_type": "code",
      "execution_count": null,
      "metadata": {
        "colab": {
          "background_save": true
        },
        "id": "F87iB9NsGMOt"
      },
      "outputs": [],
      "source": [
        "genre = pd.read_csv(\"ml-100k/u.genre\", sep = '|', header = None)\n",
        "genre_list = genre[0].values\n",
        "movie_set_genre = movies[genre_list]"
      ]
    },
    {
      "cell_type": "code",
      "execution_count": null,
      "metadata": {
        "id": "UvCerokB6QDn"
      },
      "outputs": [
        {
          "data": {
            "text/plain": [
              "array([ 2,  3, 10, ..., 19,  5,  1])"
            ]
          },
          "execution_count": 21,
          "metadata": {},
          "output_type": "execute_result"
        }
      ],
      "source": [
        "from sklearn.cluster import KMeans\n",
        "k = 50\n",
        "kmeans = KMeans(n_clusters=k)\n",
        "kmeans.fit_predict(movie_set_genre)"
      ]
    },
    {
      "cell_type": "code",
      "execution_count": null,
      "metadata": {
        "id": "E75PXTyN6XSl"
      },
      "outputs": [
        {
          "data": {
            "text/plain": [
              "306.95507888543244"
            ]
          },
          "execution_count": 22,
          "metadata": {},
          "output_type": "execute_result"
        }
      ],
      "source": [
        "kmeans.inertia_"
      ]
    },
    {
      "cell_type": "code",
      "execution_count": 116,
      "metadata": {
        "id": "uNClPCi_6alm"
      },
      "outputs": [
        {
          "name": "stdout",
          "output_type": "stream",
          "text": [
            "(1682, 19)\n",
            "[0 0 0 1 1 1 0 0 0 0 0 0 0 0 0 0 0 0 0]\n",
            "[0 1 1 0 0 0 0 0 0 0 0 0 0 0 0 0 1 0 0]\n",
            "1.0\n",
            "2.449489742783178\n",
            "1.0\n"
          ]
        }
      ],
      "source": [
        "import scipy.spatial.distance as sp_dist\n",
        "genre_array = movie_set_genre.to_numpy()\n",
        "\n",
        "print(genre_array.shape)\n",
        "\n",
        "x = genre_array[0]\n",
        "y = genre_array[1]\n",
        "print(x)\n",
        "print(y)\n",
        "print(sp_dist.cosine(x,y))\n",
        "print(sp_dist.euclidean(x,y))\n",
        "print(sp_dist.jaccard(x,y))"
      ]
    },
    {
      "cell_type": "code",
      "execution_count": 115,
      "metadata": {
        "id": "F3h3ikoE6eG6"
      },
      "outputs": [
        {
          "name": "stdout",
          "output_type": "stream",
          "text": [
            "(1682, 1682)\n",
            "[[0.         1.         1.         ... 1.         0.42264973 1.        ]\n",
            " [1.         0.         0.42264973 ... 1.         1.         1.        ]\n",
            " [1.         0.42264973 0.         ... 1.         1.         1.        ]\n",
            " ...\n",
            " [1.         1.         1.         ... 0.         1.         0.29289322]\n",
            " [0.42264973 1.         1.         ... 1.         0.         1.        ]\n",
            " [1.         1.         1.         ... 0.29289322 1.         0.        ]]\n"
          ]
        }
      ],
      "source": [
        "# compute the matrix of all pairwise distances of movies\n",
        "import sklearn.metrics as metrics\n",
        "\n",
        "distance_matrix = metrics.pairwise_distances(genre_array,metric = 'jaccard') # ‘cosine’, ‘euclidean’, etc\n",
        "print(distance_matrix.shape)\n",
        "print(distance_matrix)"
      ]
    }
  ],
  "metadata": {
    "colab": {
      "authorship_tag": "ABX9TyPyIeomsIdGbm+8Hacb2JTi",
      "include_colab_link": true,
      "provenance": []
    },
    "kernelspec": {
      "display_name": "Python 3.8.8 ('base')",
      "language": "python",
      "name": "python3"
    },
    "language_info": {
      "codemirror_mode": {
        "name": "ipython",
        "version": 3
      },
      "file_extension": ".py",
      "mimetype": "text/x-python",
      "name": "python",
      "nbconvert_exporter": "python",
      "pygments_lexer": "ipython3",
      "version": "3.8.8"
    },
    "vscode": {
      "interpreter": {
        "hash": "ad2bdc8ecc057115af97d19610ffacc2b4e99fae6737bb82f5d7fb13d2f2c186"
      }
    }
  },
  "nbformat": 4,
  "nbformat_minor": 0
}
